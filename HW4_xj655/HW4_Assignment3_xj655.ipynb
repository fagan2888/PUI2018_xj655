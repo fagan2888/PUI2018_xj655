{
 "cells": [
  {
   "cell_type": "code",
   "execution_count": 1,
   "metadata": {},
   "outputs": [],
   "source": [
    "from __future__ import print_function"
   ]
  },
  {
   "cell_type": "code",
   "execution_count": 2,
   "metadata": {},
   "outputs": [
    {
     "name": "stdout",
     "output_type": "stream",
     "text": [
      "  % Total    % Received % Xferd  Average Speed   Time    Time     Time  Current\n",
      "                                 Dload  Upload   Total   Spent    Left  Speed\n",
      "100  1179  100  1179    0     0  10851      0 --:--:-- --:--:-- --:--:-- 10816\n"
     ]
    }
   ],
   "source": [
    "! curl https://raw.githubusercontent.com/fedhere/PUI2018_fb55/master/Lab4_fb55/times.txt > times.txt"
   ]
  },
  {
   "cell_type": "code",
   "execution_count": 3,
   "metadata": {},
   "outputs": [
    {
     "name": "stdout",
     "output_type": "stream",
     "text": [
      "PUIdata /nfshome/xj655/PUIdata\n"
     ]
    }
   ],
   "source": [
    "import os\n",
    "os.environ[\"PUIDATA\"] = '%s/PUIdata'%os.getenv('HOME')\n",
    "print('PUIdata', os.getenv(\"PUIDATA\"))"
   ]
  },
  {
   "cell_type": "code",
   "execution_count": 5,
   "metadata": {},
   "outputs": [],
   "source": [
    "!mv /nfshome/xj655/PUI2018/times.txt $PUIDATA"
   ]
  },
  {
   "cell_type": "code",
   "execution_count": 6,
   "metadata": {},
   "outputs": [
    {
     "name": "stdout",
     "output_type": "stream",
     "text": [
      "times.txt\r\n"
     ]
    }
   ],
   "source": [
    "!ls $PUIDATA"
   ]
  },
  {
   "cell_type": "markdown",
   "metadata": {},
   "source": [
    "Hypothesis:\n",
    "\n",
    "$H_0: $ the mean of commute time is the same or longer\n",
    "with the new bus route as it was before.\n",
    "\n",
    "$H_0: \\mu_{\\mathrm{new}}-\\mu_{\\mathrm{old}}\\geq 0$\n",
    "\n",
    "\n",
    "$H_1: $ the mean of commute time is the shorter\n",
    "with the new bus route as it was before.\n",
    "\n",
    "$H_1: \\mu_{\\mathrm{new}}-\\mu_{\\mathrm{old}} < 0$\n",
    " \n",
    "\n",
    "I used the significant level $\\alpha=0.05$"
   ]
  },
  {
   "cell_type": "code",
   "execution_count": 32,
   "metadata": {},
   "outputs": [
    {
     "data": {
      "text/plain": [
       "0    100\n",
       "dtype: int64"
      ]
     },
     "execution_count": 32,
     "metadata": {},
     "output_type": "execute_result"
    }
   ],
   "source": [
    "import pandas as pd\n",
    "import numpy as np\n",
    "times = pd.read_csv(\"%s/times.txt\"%os.getenv(\"PUIDATA\"), header=None)\n",
    "times.head(7)\n"
   ]
  },
  {
   "cell_type": "code",
   "execution_count": 33,
   "metadata": {},
   "outputs": [],
   "source": [
    "mu_new = times.mean()\n",
    "mu_old = 36\n",
    "sigma_old = 6\n",
    "N = times.count()\n"
   ]
  },
  {
   "cell_type": "code",
   "execution_count": 40,
   "metadata": {},
   "outputs": [
    {
     "data": {
      "text/plain": [
       "0   -2.556397\n",
       "dtype: float64"
      ]
     },
     "execution_count": 40,
     "metadata": {},
     "output_type": "execute_result"
    }
   ],
   "source": [
    "Z = (mu_new-mu_old)/((sigma_old)/np.sqrt(N))\n"
   ]
  },
  {
   "cell_type": "markdown",
   "metadata": {},
   "source": [
    "Since the Z is less than -2，and locates in the rejection area for 95% confidence interval. This means the slack between new bus commuting time mean and  old bus communiting time is larger than 2 sigma. \n",
    "\n",
    "We can reject the Null Hypothesis that \"the mean of commute time is the same or longer with the new bus route as it was before\" in 95% sigfinicance and accept the alternative hypothesis.\n",
    "\n",
    "So we can say with 95% probability, the new bus time is less than the old one."
   ]
  },
  {
   "cell_type": "code",
   "execution_count": null,
   "metadata": {},
   "outputs": [],
   "source": []
  }
 ],
 "metadata": {
  "kernelspec": {
   "display_name": "PUI2016_Python3",
   "language": "python",
   "name": "pui2016_python3"
  },
  "language_info": {
   "codemirror_mode": {
    "name": "ipython",
    "version": 3
   },
   "file_extension": ".py",
   "mimetype": "text/x-python",
   "name": "python",
   "nbconvert_exporter": "python",
   "pygments_lexer": "ipython3",
   "version": "3.5.4"
  }
 },
 "nbformat": 4,
 "nbformat_minor": 2
}
