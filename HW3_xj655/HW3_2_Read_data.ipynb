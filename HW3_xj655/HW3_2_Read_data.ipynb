{
 "cells": [
  {
   "cell_type": "code",
   "execution_count": 1,
   "metadata": {},
   "outputs": [],
   "source": [
    "from __future__ import print_function"
   ]
  },
  {
   "cell_type": "markdown",
   "metadata": {},
   "source": [
    "# Solution 1 use the csv -copy link"
   ]
  },
  {
   "cell_type": "code",
   "execution_count": 2,
   "metadata": {
    "scrolled": true
   },
   "outputs": [
    {
     "name": "stdout",
     "output_type": "stream",
     "text": [
      "  % Total    % Received % Xferd  Average Speed   Time    Time     Time  Current\n",
      "                                 Dload  Upload   Total   Spent    Left  Speed\n",
      "100  730k    0  730k    0     0  1333k      0 --:--:-- --:--:-- --:--:-- 1333k\n"
     ]
    }
   ],
   "source": [
    "!curl https://data.cityofnewyork.us/api/views/hg8x-zxpr/rows.csv?accessType=DOWNLOAD > dhsdaily.csv"
   ]
  },
  {
   "cell_type": "code",
   "execution_count": 3,
   "metadata": {},
   "outputs": [
    {
     "name": "stdout",
     "output_type": "stream",
     "text": [
      "PUIdata /nfshome/xj655/PUI2018/PUIdata\n"
     ]
    }
   ],
   "source": [
    "#create the env variable if missing; If I want to change the routine, change it in the =\" /.././../\"\n",
    "import os\n",
    "os.environ[\"PUIDATA\"] = \"%s/PUI2018/PUIdata\"%os.getenv(\"HOME\")\n",
    "print(\"PUIdata\", os.getenv(\"PUIDATA\"))"
   ]
  },
  {
   "cell_type": "code",
   "execution_count": 4,
   "metadata": {},
   "outputs": [],
   "source": [
    "# move the downloaded data to PUI data\n"
   ]
  },
  {
   "cell_type": "code",
   "execution_count": 5,
   "metadata": {},
   "outputs": [],
   "source": [
    "# move the data; write the complete file routine\n",
    "!mv  /nfshome/xj655/PUI2018/dhsdaily.csv $PUIDATA"
   ]
  },
  {
   "cell_type": "code",
   "execution_count": 6,
   "metadata": {},
   "outputs": [
    {
     "name": "stdout",
     "output_type": "stream",
     "text": [
      "dhsdaily.csv  edesignation.csv\r\n"
     ]
    }
   ],
   "source": [
    "#test if the data is there\n",
    "!ls $PUIDATA"
   ]
  },
  {
   "cell_type": "markdown",
   "metadata": {},
   "source": [
    "## read in the data with pandas"
   ]
  },
  {
   "cell_type": "code",
   "execution_count": 7,
   "metadata": {},
   "outputs": [],
   "source": [
    "import pandas as pd\n",
    "dhs = pd.read_csv(\"%s/dhsdaily.csv\"%os.getenv(\"PUIDATA\"))"
   ]
  },
  {
   "cell_type": "code",
   "execution_count": 8,
   "metadata": {},
   "outputs": [
    {
     "data": {
      "text/html": [
       "<div>\n",
       "<style scoped>\n",
       "    .dataframe tbody tr th:only-of-type {\n",
       "        vertical-align: middle;\n",
       "    }\n",
       "\n",
       "    .dataframe tbody tr th {\n",
       "        vertical-align: top;\n",
       "    }\n",
       "\n",
       "    .dataframe thead th {\n",
       "        text-align: right;\n",
       "    }\n",
       "</style>\n",
       "<table border=\"1\" class=\"dataframe\">\n",
       "  <thead>\n",
       "    <tr style=\"text-align: right;\">\n",
       "      <th></th>\n",
       "      <th>Project ID</th>\n",
       "      <th>Project Name</th>\n",
       "      <th>Project Start Date</th>\n",
       "      <th>Project Completion Date</th>\n",
       "      <th>Building ID</th>\n",
       "      <th>Number</th>\n",
       "      <th>Street</th>\n",
       "      <th>Borough</th>\n",
       "      <th>Postcode</th>\n",
       "      <th>BBL</th>\n",
       "      <th>...</th>\n",
       "      <th>2-BR Units</th>\n",
       "      <th>3-BR Units</th>\n",
       "      <th>4-BR Units</th>\n",
       "      <th>5-BR Units</th>\n",
       "      <th>6-BR+ Units</th>\n",
       "      <th>Unknown-BR Units</th>\n",
       "      <th>Counted Rental Units</th>\n",
       "      <th>Counted Homeownership Units</th>\n",
       "      <th>All Counted Units</th>\n",
       "      <th>Total Units</th>\n",
       "    </tr>\n",
       "  </thead>\n",
       "  <tbody>\n",
       "    <tr>\n",
       "      <th>0</th>\n",
       "      <td>51867</td>\n",
       "      <td>THE ROBESON</td>\n",
       "      <td>06/29/2018</td>\n",
       "      <td>NaN</td>\n",
       "      <td>927152.0</td>\n",
       "      <td>407</td>\n",
       "      <td>LENOX AVENUE</td>\n",
       "      <td>Manhattan</td>\n",
       "      <td>10037.0</td>\n",
       "      <td>1.019150e+09</td>\n",
       "      <td>...</td>\n",
       "      <td>32</td>\n",
       "      <td>6</td>\n",
       "      <td>0</td>\n",
       "      <td>0</td>\n",
       "      <td>0</td>\n",
       "      <td>0</td>\n",
       "      <td>79</td>\n",
       "      <td>0</td>\n",
       "      <td>79</td>\n",
       "      <td>79</td>\n",
       "    </tr>\n",
       "    <tr>\n",
       "      <th>1</th>\n",
       "      <td>52986</td>\n",
       "      <td>ESSIE  JEFFRIES APARTMENTS HDFC.HUDMF.FY18</td>\n",
       "      <td>06/29/2018</td>\n",
       "      <td>NaN</td>\n",
       "      <td>5738.0</td>\n",
       "      <td>1990</td>\n",
       "      <td>AMSTERDAM AVENUE</td>\n",
       "      <td>Manhattan</td>\n",
       "      <td>10032.0</td>\n",
       "      <td>1.021170e+09</td>\n",
       "      <td>...</td>\n",
       "      <td>15</td>\n",
       "      <td>5</td>\n",
       "      <td>5</td>\n",
       "      <td>0</td>\n",
       "      <td>0</td>\n",
       "      <td>0</td>\n",
       "      <td>25</td>\n",
       "      <td>0</td>\n",
       "      <td>25</td>\n",
       "      <td>25</td>\n",
       "    </tr>\n",
       "    <tr>\n",
       "      <th>2</th>\n",
       "      <td>52986</td>\n",
       "      <td>ESSIE  JEFFRIES APARTMENTS HDFC.HUDMF.FY18</td>\n",
       "      <td>06/29/2018</td>\n",
       "      <td>NaN</td>\n",
       "      <td>42862.0</td>\n",
       "      <td>531</td>\n",
       "      <td>WEST 160 STREET</td>\n",
       "      <td>Manhattan</td>\n",
       "      <td>10032.0</td>\n",
       "      <td>1.021190e+09</td>\n",
       "      <td>...</td>\n",
       "      <td>20</td>\n",
       "      <td>0</td>\n",
       "      <td>0</td>\n",
       "      <td>0</td>\n",
       "      <td>0</td>\n",
       "      <td>0</td>\n",
       "      <td>20</td>\n",
       "      <td>0</td>\n",
       "      <td>20</td>\n",
       "      <td>20</td>\n",
       "    </tr>\n",
       "    <tr>\n",
       "      <th>3</th>\n",
       "      <td>52986</td>\n",
       "      <td>ESSIE  JEFFRIES APARTMENTS HDFC.HUDMF.FY18</td>\n",
       "      <td>06/29/2018</td>\n",
       "      <td>NaN</td>\n",
       "      <td>42869.0</td>\n",
       "      <td>547</td>\n",
       "      <td>WEST 160 STREET</td>\n",
       "      <td>Manhattan</td>\n",
       "      <td>10032.0</td>\n",
       "      <td>1.021190e+09</td>\n",
       "      <td>...</td>\n",
       "      <td>20</td>\n",
       "      <td>0</td>\n",
       "      <td>0</td>\n",
       "      <td>0</td>\n",
       "      <td>0</td>\n",
       "      <td>0</td>\n",
       "      <td>20</td>\n",
       "      <td>0</td>\n",
       "      <td>20</td>\n",
       "      <td>20</td>\n",
       "    </tr>\n",
       "    <tr>\n",
       "      <th>4</th>\n",
       "      <td>54377</td>\n",
       "      <td>CONFIDENTIAL</td>\n",
       "      <td>06/29/2018</td>\n",
       "      <td>NaN</td>\n",
       "      <td>NaN</td>\n",
       "      <td>----</td>\n",
       "      <td>----</td>\n",
       "      <td>Brooklyn</td>\n",
       "      <td>NaN</td>\n",
       "      <td>NaN</td>\n",
       "      <td>...</td>\n",
       "      <td>14</td>\n",
       "      <td>12</td>\n",
       "      <td>0</td>\n",
       "      <td>0</td>\n",
       "      <td>0</td>\n",
       "      <td>0</td>\n",
       "      <td>50</td>\n",
       "      <td>0</td>\n",
       "      <td>50</td>\n",
       "      <td>50</td>\n",
       "    </tr>\n",
       "    <tr>\n",
       "      <th>5</th>\n",
       "      <td>59107</td>\n",
       "      <td>LA CABANA HOUSES</td>\n",
       "      <td>06/29/2018</td>\n",
       "      <td>NaN</td>\n",
       "      <td>328793.0</td>\n",
       "      <td>391</td>\n",
       "      <td>LORIMER STREET</td>\n",
       "      <td>Brooklyn</td>\n",
       "      <td>11206.0</td>\n",
       "      <td>3.030310e+09</td>\n",
       "      <td>...</td>\n",
       "      <td>15</td>\n",
       "      <td>35</td>\n",
       "      <td>0</td>\n",
       "      <td>0</td>\n",
       "      <td>0</td>\n",
       "      <td>0</td>\n",
       "      <td>71</td>\n",
       "      <td>0</td>\n",
       "      <td>71</td>\n",
       "      <td>71</td>\n",
       "    </tr>\n",
       "    <tr>\n",
       "      <th>6</th>\n",
       "      <td>59107</td>\n",
       "      <td>LA CABANA HOUSES</td>\n",
       "      <td>06/29/2018</td>\n",
       "      <td>NaN</td>\n",
       "      <td>328801.0</td>\n",
       "      <td>417</td>\n",
       "      <td>LORIMER STREET</td>\n",
       "      <td>Brooklyn</td>\n",
       "      <td>11206.0</td>\n",
       "      <td>3.030220e+09</td>\n",
       "      <td>...</td>\n",
       "      <td>9</td>\n",
       "      <td>23</td>\n",
       "      <td>0</td>\n",
       "      <td>0</td>\n",
       "      <td>0</td>\n",
       "      <td>0</td>\n",
       "      <td>48</td>\n",
       "      <td>0</td>\n",
       "      <td>48</td>\n",
       "      <td>48</td>\n",
       "    </tr>\n",
       "  </tbody>\n",
       "</table>\n",
       "<p>7 rows × 41 columns</p>\n",
       "</div>"
      ],
      "text/plain": [
       "   Project ID                                Project Name Project Start Date  \\\n",
       "0       51867                                 THE ROBESON         06/29/2018   \n",
       "1       52986  ESSIE  JEFFRIES APARTMENTS HDFC.HUDMF.FY18         06/29/2018   \n",
       "2       52986  ESSIE  JEFFRIES APARTMENTS HDFC.HUDMF.FY18         06/29/2018   \n",
       "3       52986  ESSIE  JEFFRIES APARTMENTS HDFC.HUDMF.FY18         06/29/2018   \n",
       "4       54377                                CONFIDENTIAL         06/29/2018   \n",
       "5       59107                            LA CABANA HOUSES         06/29/2018   \n",
       "6       59107                            LA CABANA HOUSES         06/29/2018   \n",
       "\n",
       "  Project Completion Date  Building ID Number            Street    Borough  \\\n",
       "0                     NaN     927152.0    407      LENOX AVENUE  Manhattan   \n",
       "1                     NaN       5738.0   1990  AMSTERDAM AVENUE  Manhattan   \n",
       "2                     NaN      42862.0    531   WEST 160 STREET  Manhattan   \n",
       "3                     NaN      42869.0    547   WEST 160 STREET  Manhattan   \n",
       "4                     NaN          NaN   ----              ----   Brooklyn   \n",
       "5                     NaN     328793.0    391    LORIMER STREET   Brooklyn   \n",
       "6                     NaN     328801.0    417    LORIMER STREET   Brooklyn   \n",
       "\n",
       "   Postcode           BBL     ...      2-BR Units 3-BR Units  4-BR Units  \\\n",
       "0   10037.0  1.019150e+09     ...              32          6           0   \n",
       "1   10032.0  1.021170e+09     ...              15          5           5   \n",
       "2   10032.0  1.021190e+09     ...              20          0           0   \n",
       "3   10032.0  1.021190e+09     ...              20          0           0   \n",
       "4       NaN           NaN     ...              14         12           0   \n",
       "5   11206.0  3.030310e+09     ...              15         35           0   \n",
       "6   11206.0  3.030220e+09     ...               9         23           0   \n",
       "\n",
       "   5-BR Units 6-BR+ Units  Unknown-BR Units  Counted Rental Units  \\\n",
       "0           0           0                 0                    79   \n",
       "1           0           0                 0                    25   \n",
       "2           0           0                 0                    20   \n",
       "3           0           0                 0                    20   \n",
       "4           0           0                 0                    50   \n",
       "5           0           0                 0                    71   \n",
       "6           0           0                 0                    48   \n",
       "\n",
       "   Counted Homeownership Units  All Counted Units Total Units  \n",
       "0                            0                 79          79  \n",
       "1                            0                 25          25  \n",
       "2                            0                 20          20  \n",
       "3                            0                 20          20  \n",
       "4                            0                 50          50  \n",
       "5                            0                 71          71  \n",
       "6                            0                 48          48  \n",
       "\n",
       "[7 rows x 41 columns]"
      ]
     },
     "execution_count": 8,
     "metadata": {},
     "output_type": "execute_result"
    }
   ],
   "source": [
    "#print the fist 8 lines out\n",
    "dhs.head(7)"
   ]
  },
  {
   "cell_type": "code",
   "execution_count": 9,
   "metadata": {},
   "outputs": [
    {
     "data": {
      "text/html": [
       "<div>\n",
       "<style scoped>\n",
       "    .dataframe tbody tr th:only-of-type {\n",
       "        vertical-align: middle;\n",
       "    }\n",
       "\n",
       "    .dataframe tbody tr th {\n",
       "        vertical-align: top;\n",
       "    }\n",
       "\n",
       "    .dataframe thead th {\n",
       "        text-align: right;\n",
       "    }\n",
       "</style>\n",
       "<table border=\"1\" class=\"dataframe\">\n",
       "  <thead>\n",
       "    <tr style=\"text-align: right;\">\n",
       "      <th></th>\n",
       "      <th>Project ID</th>\n",
       "      <th>Project Name</th>\n",
       "      <th>Project Start Date</th>\n",
       "      <th>Project Completion Date</th>\n",
       "      <th>Building ID</th>\n",
       "      <th>Number</th>\n",
       "      <th>Street</th>\n",
       "      <th>Borough</th>\n",
       "      <th>Postcode</th>\n",
       "      <th>BBL</th>\n",
       "      <th>...</th>\n",
       "      <th>2-BR Units</th>\n",
       "      <th>3-BR Units</th>\n",
       "      <th>4-BR Units</th>\n",
       "      <th>5-BR Units</th>\n",
       "      <th>6-BR+ Units</th>\n",
       "      <th>Unknown-BR Units</th>\n",
       "      <th>Counted Rental Units</th>\n",
       "      <th>Counted Homeownership Units</th>\n",
       "      <th>All Counted Units</th>\n",
       "      <th>Total Units</th>\n",
       "    </tr>\n",
       "  </thead>\n",
       "  <tbody>\n",
       "    <tr>\n",
       "      <th>3280</th>\n",
       "      <td>56106</td>\n",
       "      <td>CONFIDENTIAL</td>\n",
       "      <td>01/15/2014</td>\n",
       "      <td>01/15/2014</td>\n",
       "      <td>NaN</td>\n",
       "      <td>----</td>\n",
       "      <td>----</td>\n",
       "      <td>Bronx</td>\n",
       "      <td>NaN</td>\n",
       "      <td>NaN</td>\n",
       "      <td>...</td>\n",
       "      <td>0</td>\n",
       "      <td>0</td>\n",
       "      <td>0</td>\n",
       "      <td>0</td>\n",
       "      <td>0</td>\n",
       "      <td>1</td>\n",
       "      <td>0</td>\n",
       "      <td>1</td>\n",
       "      <td>1</td>\n",
       "      <td>1</td>\n",
       "    </tr>\n",
       "    <tr>\n",
       "      <th>3281</th>\n",
       "      <td>50481</td>\n",
       "      <td>CONFIDENTIAL</td>\n",
       "      <td>01/14/2014</td>\n",
       "      <td>04/30/2014</td>\n",
       "      <td>NaN</td>\n",
       "      <td>----</td>\n",
       "      <td>----</td>\n",
       "      <td>Brooklyn</td>\n",
       "      <td>NaN</td>\n",
       "      <td>NaN</td>\n",
       "      <td>...</td>\n",
       "      <td>0</td>\n",
       "      <td>0</td>\n",
       "      <td>0</td>\n",
       "      <td>0</td>\n",
       "      <td>0</td>\n",
       "      <td>3</td>\n",
       "      <td>0</td>\n",
       "      <td>3</td>\n",
       "      <td>3</td>\n",
       "      <td>3</td>\n",
       "    </tr>\n",
       "    <tr>\n",
       "      <th>3282</th>\n",
       "      <td>55697</td>\n",
       "      <td>CONFIDENTIAL</td>\n",
       "      <td>01/14/2014</td>\n",
       "      <td>01/14/2014</td>\n",
       "      <td>NaN</td>\n",
       "      <td>----</td>\n",
       "      <td>----</td>\n",
       "      <td>Brooklyn</td>\n",
       "      <td>NaN</td>\n",
       "      <td>NaN</td>\n",
       "      <td>...</td>\n",
       "      <td>0</td>\n",
       "      <td>0</td>\n",
       "      <td>0</td>\n",
       "      <td>0</td>\n",
       "      <td>0</td>\n",
       "      <td>1</td>\n",
       "      <td>0</td>\n",
       "      <td>1</td>\n",
       "      <td>1</td>\n",
       "      <td>1</td>\n",
       "    </tr>\n",
       "    <tr>\n",
       "      <th>3283</th>\n",
       "      <td>55773</td>\n",
       "      <td>CONFIDENTIAL</td>\n",
       "      <td>01/10/2014</td>\n",
       "      <td>01/10/2014</td>\n",
       "      <td>NaN</td>\n",
       "      <td>----</td>\n",
       "      <td>----</td>\n",
       "      <td>Staten Island</td>\n",
       "      <td>NaN</td>\n",
       "      <td>NaN</td>\n",
       "      <td>...</td>\n",
       "      <td>0</td>\n",
       "      <td>0</td>\n",
       "      <td>0</td>\n",
       "      <td>0</td>\n",
       "      <td>0</td>\n",
       "      <td>1</td>\n",
       "      <td>0</td>\n",
       "      <td>1</td>\n",
       "      <td>1</td>\n",
       "      <td>1</td>\n",
       "    </tr>\n",
       "    <tr>\n",
       "      <th>3284</th>\n",
       "      <td>57341</td>\n",
       "      <td>CONFIDENTIAL</td>\n",
       "      <td>01/10/2014</td>\n",
       "      <td>01/10/2014</td>\n",
       "      <td>NaN</td>\n",
       "      <td>----</td>\n",
       "      <td>----</td>\n",
       "      <td>Staten Island</td>\n",
       "      <td>NaN</td>\n",
       "      <td>NaN</td>\n",
       "      <td>...</td>\n",
       "      <td>0</td>\n",
       "      <td>0</td>\n",
       "      <td>0</td>\n",
       "      <td>0</td>\n",
       "      <td>0</td>\n",
       "      <td>1</td>\n",
       "      <td>0</td>\n",
       "      <td>1</td>\n",
       "      <td>1</td>\n",
       "      <td>1</td>\n",
       "    </tr>\n",
       "    <tr>\n",
       "      <th>3285</th>\n",
       "      <td>55647</td>\n",
       "      <td>CONFIDENTIAL</td>\n",
       "      <td>01/07/2014</td>\n",
       "      <td>01/07/2014</td>\n",
       "      <td>NaN</td>\n",
       "      <td>----</td>\n",
       "      <td>----</td>\n",
       "      <td>Brooklyn</td>\n",
       "      <td>NaN</td>\n",
       "      <td>NaN</td>\n",
       "      <td>...</td>\n",
       "      <td>0</td>\n",
       "      <td>0</td>\n",
       "      <td>0</td>\n",
       "      <td>0</td>\n",
       "      <td>0</td>\n",
       "      <td>1</td>\n",
       "      <td>0</td>\n",
       "      <td>1</td>\n",
       "      <td>1</td>\n",
       "      <td>1</td>\n",
       "    </tr>\n",
       "    <tr>\n",
       "      <th>3286</th>\n",
       "      <td>55759</td>\n",
       "      <td>CONFIDENTIAL</td>\n",
       "      <td>01/03/2014</td>\n",
       "      <td>01/03/2014</td>\n",
       "      <td>NaN</td>\n",
       "      <td>----</td>\n",
       "      <td>----</td>\n",
       "      <td>Queens</td>\n",
       "      <td>NaN</td>\n",
       "      <td>NaN</td>\n",
       "      <td>...</td>\n",
       "      <td>0</td>\n",
       "      <td>0</td>\n",
       "      <td>0</td>\n",
       "      <td>0</td>\n",
       "      <td>0</td>\n",
       "      <td>1</td>\n",
       "      <td>0</td>\n",
       "      <td>1</td>\n",
       "      <td>1</td>\n",
       "      <td>1</td>\n",
       "    </tr>\n",
       "  </tbody>\n",
       "</table>\n",
       "<p>7 rows × 41 columns</p>\n",
       "</div>"
      ],
      "text/plain": [
       "      Project ID  Project Name Project Start Date Project Completion Date  \\\n",
       "3280       56106  CONFIDENTIAL         01/15/2014              01/15/2014   \n",
       "3281       50481  CONFIDENTIAL         01/14/2014              04/30/2014   \n",
       "3282       55697  CONFIDENTIAL         01/14/2014              01/14/2014   \n",
       "3283       55773  CONFIDENTIAL         01/10/2014              01/10/2014   \n",
       "3284       57341  CONFIDENTIAL         01/10/2014              01/10/2014   \n",
       "3285       55647  CONFIDENTIAL         01/07/2014              01/07/2014   \n",
       "3286       55759  CONFIDENTIAL         01/03/2014              01/03/2014   \n",
       "\n",
       "      Building ID Number Street        Borough  Postcode  BBL     ...      \\\n",
       "3280          NaN   ----   ----          Bronx       NaN  NaN     ...       \n",
       "3281          NaN   ----   ----       Brooklyn       NaN  NaN     ...       \n",
       "3282          NaN   ----   ----       Brooklyn       NaN  NaN     ...       \n",
       "3283          NaN   ----   ----  Staten Island       NaN  NaN     ...       \n",
       "3284          NaN   ----   ----  Staten Island       NaN  NaN     ...       \n",
       "3285          NaN   ----   ----       Brooklyn       NaN  NaN     ...       \n",
       "3286          NaN   ----   ----         Queens       NaN  NaN     ...       \n",
       "\n",
       "      2-BR Units 3-BR Units  4-BR Units  5-BR Units 6-BR+ Units  \\\n",
       "3280           0          0           0           0           0   \n",
       "3281           0          0           0           0           0   \n",
       "3282           0          0           0           0           0   \n",
       "3283           0          0           0           0           0   \n",
       "3284           0          0           0           0           0   \n",
       "3285           0          0           0           0           0   \n",
       "3286           0          0           0           0           0   \n",
       "\n",
       "      Unknown-BR Units  Counted Rental Units  Counted Homeownership Units  \\\n",
       "3280                 1                     0                            1   \n",
       "3281                 3                     0                            3   \n",
       "3282                 1                     0                            1   \n",
       "3283                 1                     0                            1   \n",
       "3284                 1                     0                            1   \n",
       "3285                 1                     0                            1   \n",
       "3286                 1                     0                            1   \n",
       "\n",
       "      All Counted Units Total Units  \n",
       "3280                  1           1  \n",
       "3281                  3           3  \n",
       "3282                  1           1  \n",
       "3283                  1           1  \n",
       "3284                  1           1  \n",
       "3285                  1           1  \n",
       "3286                  1           1  \n",
       "\n",
       "[7 rows x 41 columns]"
      ]
     },
     "execution_count": 9,
     "metadata": {},
     "output_type": "execute_result"
    }
   ],
   "source": [
    "dhs.tail(7)"
   ]
  },
  {
   "cell_type": "code",
   "execution_count": 10,
   "metadata": {
    "scrolled": true
   },
   "outputs": [
    {
     "data": {
      "text/plain": [
       "Index(['Project ID', 'Project Name', 'Project Start Date',\n",
       "       'Project Completion Date', 'Building ID', 'Number', 'Street', 'Borough',\n",
       "       'Postcode', 'BBL', 'BIN', 'Community Board', 'Council District',\n",
       "       'Census Tract', 'NTA - Neighborhood Tabulation Area', 'Latitude',\n",
       "       'Longitude', 'Latitude (Internal)', 'Longitude (Internal)',\n",
       "       'Building Completion Date', 'Reporting Construction Type',\n",
       "       'Extended Affordability Only', 'Prevailing Wage Status',\n",
       "       'Extremely Low Income Units', 'Very Low Income Units',\n",
       "       'Low Income Units', 'Moderate Income Units', 'Middle Income Units',\n",
       "       'Other Income Units', 'Studio Units', '1-BR Units', '2-BR Units',\n",
       "       '3-BR Units', '4-BR Units', '5-BR Units', '6-BR+ Units',\n",
       "       'Unknown-BR Units', 'Counted Rental Units',\n",
       "       'Counted Homeownership Units', 'All Counted Units', 'Total Units'],\n",
       "      dtype='object')"
      ]
     },
     "execution_count": 10,
     "metadata": {},
     "output_type": "execute_result"
    }
   ],
   "source": [
    "dhs.columns"
   ]
  },
  {
   "cell_type": "code",
   "execution_count": 11,
   "metadata": {},
   "outputs": [
    {
     "data": {
      "text/plain": [
       "134767"
      ]
     },
     "execution_count": 11,
     "metadata": {},
     "output_type": "execute_result"
    }
   ],
   "source": [
    "dhs.size"
   ]
  },
  {
   "cell_type": "code",
   "execution_count": 12,
   "metadata": {},
   "outputs": [],
   "source": [
    "dhs_2c=dhs[['2-BR Units','Middle Income Units']]"
   ]
  },
  {
   "cell_type": "code",
   "execution_count": 13,
   "metadata": {
    "scrolled": true
   },
   "outputs": [
    {
     "data": {
      "text/html": [
       "<div>\n",
       "<style scoped>\n",
       "    .dataframe tbody tr th:only-of-type {\n",
       "        vertical-align: middle;\n",
       "    }\n",
       "\n",
       "    .dataframe tbody tr th {\n",
       "        vertical-align: top;\n",
       "    }\n",
       "\n",
       "    .dataframe thead th {\n",
       "        text-align: right;\n",
       "    }\n",
       "</style>\n",
       "<table border=\"1\" class=\"dataframe\">\n",
       "  <thead>\n",
       "    <tr style=\"text-align: right;\">\n",
       "      <th></th>\n",
       "      <th>2-BR Units</th>\n",
       "      <th>Middle Income Units</th>\n",
       "    </tr>\n",
       "  </thead>\n",
       "  <tbody>\n",
       "    <tr>\n",
       "      <th>0</th>\n",
       "      <td>32</td>\n",
       "      <td>38</td>\n",
       "    </tr>\n",
       "    <tr>\n",
       "      <th>1</th>\n",
       "      <td>15</td>\n",
       "      <td>0</td>\n",
       "    </tr>\n",
       "    <tr>\n",
       "      <th>2</th>\n",
       "      <td>20</td>\n",
       "      <td>0</td>\n",
       "    </tr>\n",
       "    <tr>\n",
       "      <th>3</th>\n",
       "      <td>20</td>\n",
       "      <td>0</td>\n",
       "    </tr>\n",
       "    <tr>\n",
       "      <th>4</th>\n",
       "      <td>14</td>\n",
       "      <td>0</td>\n",
       "    </tr>\n",
       "    <tr>\n",
       "      <th>5</th>\n",
       "      <td>15</td>\n",
       "      <td>0</td>\n",
       "    </tr>\n",
       "    <tr>\n",
       "      <th>6</th>\n",
       "      <td>9</td>\n",
       "      <td>0</td>\n",
       "    </tr>\n",
       "  </tbody>\n",
       "</table>\n",
       "</div>"
      ],
      "text/plain": [
       "   2-BR Units  Middle Income Units\n",
       "0          32                   38\n",
       "1          15                    0\n",
       "2          20                    0\n",
       "3          20                    0\n",
       "4          14                    0\n",
       "5          15                    0\n",
       "6           9                    0"
      ]
     },
     "execution_count": 13,
     "metadata": {},
     "output_type": "execute_result"
    }
   ],
   "source": [
    "dhs_2c.head(7)"
   ]
  },
  {
   "cell_type": "markdown",
   "metadata": {},
   "source": [
    "# plot the data"
   ]
  },
  {
   "cell_type": "code",
   "execution_count": 14,
   "metadata": {},
   "outputs": [
    {
     "name": "stdout",
     "output_type": "stream",
     "text": [
      "Populating the interactive namespace from numpy and matplotlib\n"
     ]
    },
    {
     "data": {
      "text/plain": [
       "<matplotlib.axes._subplots.AxesSubplot at 0x7fa920802da0>"
      ]
     },
     "execution_count": 14,
     "metadata": {},
     "output_type": "execute_result"
    },
    {
     "data": {
      "image/png": "[encoded data removed]",
      "text/plain": [
       "<Figure size 432x288 with 1 Axes>"
      ]
     },
     "metadata": {
      "needs_background": "light"
     },
     "output_type": "display_data"
    }
   ],
   "source": [
    "%pylab inline\n",
    "dhs_2c.plot(x='2-BR Units',y='Middle Income Units',kind='scatter')\n",
    "\n"
   ]
  },
  {
   "cell_type": "markdown",
   "metadata": {},
   "source": [
    "Figure1:number of 2-bedroom units against Middle Income units in NYC housing market as reported by the Department of Housing Preservation and Development (HPD) since 2014. The two variable display some kind of positive correlation. However, another trend curiously shows that when the number of 2-BR units increase, the Middle income units doesn't change. Also note that both variables use the same unit."
   ]
  },
  {
   "cell_type": "markdown",
   "metadata": {},
   "source": [
    "# solution 2: Use API and download a json file\n",
    "from the dataset export link now go to -> SODA API and the the endpoint"
   ]
  },
  {
   "cell_type": "code",
   "execution_count": 15,
   "metadata": {},
   "outputs": [],
   "source": [
    "url = 'https://data.cityofnewyork.us/resource/q3m4-ttp3.json'"
   ]
  },
  {
   "cell_type": "code",
   "execution_count": 16,
   "metadata": {},
   "outputs": [],
   "source": [
    "#use the appropriatepandas function to read in the json file\n",
    "df = pd.read_json(url)"
   ]
  },
  {
   "cell_type": "code",
   "execution_count": 17,
   "metadata": {},
   "outputs": [
    {
     "data": {
      "text/html": [
       "<div>\n",
       "<style scoped>\n",
       "    .dataframe tbody tr th:only-of-type {\n",
       "        vertical-align: middle;\n",
       "    }\n",
       "\n",
       "    .dataframe tbody tr th {\n",
       "        vertical-align: top;\n",
       "    }\n",
       "\n",
       "    .dataframe thead th {\n",
       "        text-align: right;\n",
       "    }\n",
       "</style>\n",
       "<table border=\"1\" class=\"dataframe\">\n",
       "  <thead>\n",
       "    <tr style=\"text-align: right;\">\n",
       "      <th></th>\n",
       "      <th>_1_br_units</th>\n",
       "      <th>_2_br_units</th>\n",
       "      <th>_3_br_units</th>\n",
       "      <th>_4_br_units</th>\n",
       "      <th>_5_br_units</th>\n",
       "      <th>_6_br_units</th>\n",
       "      <th>all_counted_units</th>\n",
       "      <th>bbl</th>\n",
       "      <th>bin</th>\n",
       "      <th>borough</th>\n",
       "      <th>...</th>\n",
       "      <th>project_completion_date</th>\n",
       "      <th>project_id</th>\n",
       "      <th>project_name</th>\n",
       "      <th>project_start_date</th>\n",
       "      <th>reporting_construction_type</th>\n",
       "      <th>street_name</th>\n",
       "      <th>studio_units</th>\n",
       "      <th>total_units</th>\n",
       "      <th>unknown_br_units</th>\n",
       "      <th>very_low_income_units</th>\n",
       "    </tr>\n",
       "  </thead>\n",
       "  <tbody>\n",
       "    <tr>\n",
       "      <th>0</th>\n",
       "      <td>0</td>\n",
       "      <td>9</td>\n",
       "      <td>0</td>\n",
       "      <td>0</td>\n",
       "      <td>0</td>\n",
       "      <td>0</td>\n",
       "      <td>9</td>\n",
       "      <td>1.003930e+09</td>\n",
       "      <td>1004876.0</td>\n",
       "      <td>Manhattan</td>\n",
       "      <td>...</td>\n",
       "      <td>2017-06-29T00:00:00.000</td>\n",
       "      <td>63845</td>\n",
       "      <td>LESPMHA HDFC</td>\n",
       "      <td>2017-06-29T00:00:00.000</td>\n",
       "      <td>Preservation</td>\n",
       "      <td>AVENUE B</td>\n",
       "      <td>0</td>\n",
       "      <td>9</td>\n",
       "      <td>0</td>\n",
       "      <td>5</td>\n",
       "    </tr>\n",
       "    <tr>\n",
       "      <th>1</th>\n",
       "      <td>1</td>\n",
       "      <td>2</td>\n",
       "      <td>0</td>\n",
       "      <td>0</td>\n",
       "      <td>0</td>\n",
       "      <td>0</td>\n",
       "      <td>3</td>\n",
       "      <td>3.034350e+09</td>\n",
       "      <td>3079751.0</td>\n",
       "      <td>Brooklyn</td>\n",
       "      <td>...</td>\n",
       "      <td>2017-10-04T00:00:00.000</td>\n",
       "      <td>65132</td>\n",
       "      <td>1238 DECATUR STREET</td>\n",
       "      <td>2014-12-17T00:00:00.000</td>\n",
       "      <td>New Construction</td>\n",
       "      <td>DECATUR STREET</td>\n",
       "      <td>0</td>\n",
       "      <td>15</td>\n",
       "      <td>0</td>\n",
       "      <td>0</td>\n",
       "    </tr>\n",
       "    <tr>\n",
       "      <th>2</th>\n",
       "      <td>3</td>\n",
       "      <td>3</td>\n",
       "      <td>0</td>\n",
       "      <td>0</td>\n",
       "      <td>0</td>\n",
       "      <td>0</td>\n",
       "      <td>6</td>\n",
       "      <td>3.018240e+09</td>\n",
       "      <td>3051695.0</td>\n",
       "      <td>Brooklyn</td>\n",
       "      <td>...</td>\n",
       "      <td>NaN</td>\n",
       "      <td>58589</td>\n",
       "      <td>Madison EDJ LLC</td>\n",
       "      <td>2016-06-29T00:00:00.000</td>\n",
       "      <td>Preservation</td>\n",
       "      <td>PUTNAM AVENUE</td>\n",
       "      <td>0</td>\n",
       "      <td>6</td>\n",
       "      <td>0</td>\n",
       "      <td>0</td>\n",
       "    </tr>\n",
       "    <tr>\n",
       "      <th>3</th>\n",
       "      <td>86</td>\n",
       "      <td>188</td>\n",
       "      <td>59</td>\n",
       "      <td>52</td>\n",
       "      <td>0</td>\n",
       "      <td>0</td>\n",
       "      <td>385</td>\n",
       "      <td>3.036280e+09</td>\n",
       "      <td>3326600.0</td>\n",
       "      <td>Brooklyn</td>\n",
       "      <td>...</td>\n",
       "      <td>2016-06-22T00:00:00.000</td>\n",
       "      <td>60470</td>\n",
       "      <td>Omni - Plaza</td>\n",
       "      <td>2016-06-22T00:00:00.000</td>\n",
       "      <td>Preservation</td>\n",
       "      <td>NEW LOTS AVENUE</td>\n",
       "      <td>0</td>\n",
       "      <td>385</td>\n",
       "      <td>0</td>\n",
       "      <td>14</td>\n",
       "    </tr>\n",
       "    <tr>\n",
       "      <th>4</th>\n",
       "      <td>0</td>\n",
       "      <td>0</td>\n",
       "      <td>1</td>\n",
       "      <td>0</td>\n",
       "      <td>0</td>\n",
       "      <td>0</td>\n",
       "      <td>1</td>\n",
       "      <td>3.044520e+09</td>\n",
       "      <td>NaN</td>\n",
       "      <td>Brooklyn</td>\n",
       "      <td>...</td>\n",
       "      <td>NaN</td>\n",
       "      <td>53017</td>\n",
       "      <td>Nehemiah Spring Creek Homes at Gateway Estates 4A</td>\n",
       "      <td>2016-06-27T00:00:00.000</td>\n",
       "      <td>New Construction</td>\n",
       "      <td>SCHROEDERS AVENUE</td>\n",
       "      <td>0</td>\n",
       "      <td>1</td>\n",
       "      <td>0</td>\n",
       "      <td>0</td>\n",
       "    </tr>\n",
       "    <tr>\n",
       "      <th>5</th>\n",
       "      <td>0</td>\n",
       "      <td>0</td>\n",
       "      <td>0</td>\n",
       "      <td>0</td>\n",
       "      <td>0</td>\n",
       "      <td>0</td>\n",
       "      <td>1</td>\n",
       "      <td>NaN</td>\n",
       "      <td>NaN</td>\n",
       "      <td>Staten Island</td>\n",
       "      <td>...</td>\n",
       "      <td>2017-12-18T00:00:00.000</td>\n",
       "      <td>66457</td>\n",
       "      <td>CONFIDENTIAL</td>\n",
       "      <td>2017-12-18T00:00:00.000</td>\n",
       "      <td>New Construction</td>\n",
       "      <td>----</td>\n",
       "      <td>1</td>\n",
       "      <td>1</td>\n",
       "      <td>0</td>\n",
       "      <td>0</td>\n",
       "    </tr>\n",
       "    <tr>\n",
       "      <th>6</th>\n",
       "      <td>1</td>\n",
       "      <td>0</td>\n",
       "      <td>0</td>\n",
       "      <td>0</td>\n",
       "      <td>0</td>\n",
       "      <td>0</td>\n",
       "      <td>1</td>\n",
       "      <td>NaN</td>\n",
       "      <td>NaN</td>\n",
       "      <td>Queens</td>\n",
       "      <td>...</td>\n",
       "      <td>2017-12-18T00:00:00.000</td>\n",
       "      <td>66459</td>\n",
       "      <td>CONFIDENTIAL</td>\n",
       "      <td>2017-12-18T00:00:00.000</td>\n",
       "      <td>New Construction</td>\n",
       "      <td>----</td>\n",
       "      <td>0</td>\n",
       "      <td>1</td>\n",
       "      <td>0</td>\n",
       "      <td>0</td>\n",
       "    </tr>\n",
       "  </tbody>\n",
       "</table>\n",
       "<p>7 rows × 41 columns</p>\n",
       "</div>"
      ],
      "text/plain": [
       "   _1_br_units  _2_br_units  _3_br_units  _4_br_units  _5_br_units  \\\n",
       "0            0            9            0            0            0   \n",
       "1            1            2            0            0            0   \n",
       "2            3            3            0            0            0   \n",
       "3           86          188           59           52            0   \n",
       "4            0            0            1            0            0   \n",
       "5            0            0            0            0            0   \n",
       "6            1            0            0            0            0   \n",
       "\n",
       "   _6_br_units  all_counted_units           bbl        bin        borough  \\\n",
       "0            0                  9  1.003930e+09  1004876.0      Manhattan   \n",
       "1            0                  3  3.034350e+09  3079751.0       Brooklyn   \n",
       "2            0                  6  3.018240e+09  3051695.0       Brooklyn   \n",
       "3            0                385  3.036280e+09  3326600.0       Brooklyn   \n",
       "4            0                  1  3.044520e+09        NaN       Brooklyn   \n",
       "5            0                  1           NaN        NaN  Staten Island   \n",
       "6            0                  1           NaN        NaN         Queens   \n",
       "\n",
       "           ...           project_completion_date  project_id  \\\n",
       "0          ...           2017-06-29T00:00:00.000       63845   \n",
       "1          ...           2017-10-04T00:00:00.000       65132   \n",
       "2          ...                               NaN       58589   \n",
       "3          ...           2016-06-22T00:00:00.000       60470   \n",
       "4          ...                               NaN       53017   \n",
       "5          ...           2017-12-18T00:00:00.000       66457   \n",
       "6          ...           2017-12-18T00:00:00.000       66459   \n",
       "\n",
       "                                        project_name       project_start_date  \\\n",
       "0                                       LESPMHA HDFC  2017-06-29T00:00:00.000   \n",
       "1                                1238 DECATUR STREET  2014-12-17T00:00:00.000   \n",
       "2                                    Madison EDJ LLC  2016-06-29T00:00:00.000   \n",
       "3                                       Omni - Plaza  2016-06-22T00:00:00.000   \n",
       "4  Nehemiah Spring Creek Homes at Gateway Estates 4A  2016-06-27T00:00:00.000   \n",
       "5                                       CONFIDENTIAL  2017-12-18T00:00:00.000   \n",
       "6                                       CONFIDENTIAL  2017-12-18T00:00:00.000   \n",
       "\n",
       "   reporting_construction_type        street_name  studio_units total_units  \\\n",
       "0                 Preservation           AVENUE B             0           9   \n",
       "1             New Construction     DECATUR STREET             0          15   \n",
       "2                 Preservation      PUTNAM AVENUE             0           6   \n",
       "3                 Preservation    NEW LOTS AVENUE             0         385   \n",
       "4             New Construction  SCHROEDERS AVENUE             0           1   \n",
       "5             New Construction               ----             1           1   \n",
       "6             New Construction               ----             0           1   \n",
       "\n",
       "   unknown_br_units very_low_income_units  \n",
       "0                 0                     5  \n",
       "1                 0                     0  \n",
       "2                 0                     0  \n",
       "3                 0                    14  \n",
       "4                 0                     0  \n",
       "5                 0                     0  \n",
       "6                 0                     0  \n",
       "\n",
       "[7 rows x 41 columns]"
      ]
     },
     "execution_count": 17,
     "metadata": {},
     "output_type": "execute_result"
    }
   ],
   "source": [
    "df.head(7)"
   ]
  },
  {
   "cell_type": "code",
   "execution_count": 18,
   "metadata": {},
   "outputs": [
    {
     "data": {
      "text/plain": [
       "Index(['_1_br_units', '_2_br_units', '_3_br_units', '_4_br_units',\n",
       "       '_5_br_units', '_6_br_units', 'all_counted_units', 'bbl', 'bin',\n",
       "       'borough', 'building_completion_date', 'building_id', 'census_tract',\n",
       "       'community_board', 'council_district', 'counted_homeownership_units',\n",
       "       'counted_rental_units', 'extended_affordability_status',\n",
       "       'extremely_low_income_units', 'house_number', 'latitude',\n",
       "       'latitude_internal', 'longitude', 'longitude_internal',\n",
       "       'low_income_units', 'middle_income_units', 'moderate_income_units',\n",
       "       'neighborhood_tabulation_area', 'other_income_units', 'postcode',\n",
       "       'prevailing_wage_status', 'project_completion_date', 'project_id',\n",
       "       'project_name', 'project_start_date', 'reporting_construction_type',\n",
       "       'street_name', 'studio_units', 'total_units', 'unknown_br_units',\n",
       "       'very_low_income_units'],\n",
       "      dtype='object')"
      ]
     },
     "execution_count": 18,
     "metadata": {},
     "output_type": "execute_result"
    }
   ],
   "source": [
    "df.columns"
   ]
  },
  {
   "cell_type": "code",
   "execution_count": 19,
   "metadata": {},
   "outputs": [],
   "source": [
    "#select 3 colomn to download\n",
    "dhs_3c = df[['project_start_date','_2_br_units','middle_income_units']]"
   ]
  },
  {
   "cell_type": "code",
   "execution_count": 20,
   "metadata": {},
   "outputs": [
    {
     "name": "stderr",
     "output_type": "stream",
     "text": [
      "/nfshome/xj655/.conda/envs/myEvri/lib/python3.6/site-packages/pandas/core/frame.py:3781: SettingWithCopyWarning: \n",
      "A value is trying to be set on a copy of a slice from a DataFrame\n",
      "\n",
      "See the caveats in the documentation: http://pandas.pydata.org/pandas-docs/stable/indexing.html#indexing-view-versus-copy\n",
      "  return super(DataFrame, self).rename(**kwargs)\n"
     ]
    }
   ],
   "source": [
    "#To replace the column\n",
    "dhs_3c.rename(columns = {'project_start_date':'Project Start Date','_2_br_units':'2-BR Units','middle_income_units':\n",
    "                        'Middle Income Units'}, inplace = True)"
   ]
  },
  {
   "cell_type": "code",
   "execution_count": 23,
   "metadata": {},
   "outputs": [
    {
     "data": {
      "image/png": "[encoded data removed]",
      "text/plain": [
       "<Figure size 432x288 with 1 Axes>"
      ]
     },
     "metadata": {
      "needs_background": "light"
     },
     "output_type": "display_data"
    }
   ],
   "source": [
    "#as a default this plot wont have a y label, but all plots must have axis labels!\n",
    "ax = dhs_3c.plot(x='Project Start Date',y='2-BR Units', rot=90);\n",
    "ax.set_ylabel(\"Number\");"
   ]
  },
  {
   "cell_type": "markdown",
   "metadata": {},
   "source": [
    "No caption since I will revise the lable and variable"
   ]
  },
  {
   "cell_type": "code",
   "execution_count": 24,
   "metadata": {},
   "outputs": [
    {
     "name": "stderr",
     "output_type": "stream",
     "text": [
      "/nfshome/xj655/.conda/envs/myEvri/lib/python3.6/site-packages/ipykernel_launcher.py:1: SettingWithCopyWarning: \n",
      "A value is trying to be set on a copy of a slice from a DataFrame.\n",
      "Try using .loc[row_indexer,col_indexer] = value instead\n",
      "\n",
      "See the caveats in the documentation: http://pandas.pydata.org/pandas-docs/stable/indexing.html#indexing-view-versus-copy\n",
      "  \"\"\"Entry point for launching an IPython kernel.\n"
     ]
    }
   ],
   "source": [
    "dhs_3c['Project Start Date'] = dhs_3c['Project Start Date'].apply(lambda x:pd.Timestamp(x))"
   ]
  },
  {
   "cell_type": "code",
   "execution_count": 25,
   "metadata": {},
   "outputs": [
    {
     "data": {
      "image/png": "[encoded data removed]",
      "text/plain": [
       "<Figure size 432x288 with 1 Axes>"
      ]
     },
     "metadata": {
      "needs_background": "light"
     },
     "output_type": "display_data"
    }
   ],
   "source": [
    "ax = dhs_3c.plot(x='Project Start Date',y='2-BR Units',rot=90);\n",
    "ax.set_ylabel(\"Number\");"
   ]
  },
  {
   "cell_type": "markdown",
   "metadata": {},
   "source": [
    "Figure 2: number of 2-bedroom units in NYC housing estate as a function of time from 2014 till now. The number peaks in early 2018. there is not a significant trend, and seasonal trends can be spotted"
   ]
  },
  {
   "cell_type": "code",
   "execution_count": 26,
   "metadata": {},
   "outputs": [
    {
     "data": {
      "image/png": "[encoded data removed]",
      "text/plain": [
       "<Figure size 432x288 with 1 Axes>"
      ]
     },
     "metadata": {
      "needs_background": "light"
     },
     "output_type": "display_data"
    }
   ],
   "source": [
    "#plot the other trend\n",
    "ax = dhs_3c.plot(x='Project Start Date',y='Middle Income Units');\n",
    "ax.set_ylabel(\"Number\");"
   ]
  },
  {
   "cell_type": "markdown",
   "metadata": {},
   "source": [
    "Figure 3: number of middle income units in NYC housing estate as a function of time from 2014 till now. The number peaks in early 2017. there is no single trend, but seasonal trends can be spotted. Also note that before 2017 there is a trend which the number of mid-income units developed 10 times than 3 years ago."
   ]
  },
  {
   "cell_type": "code",
   "execution_count": null,
   "metadata": {},
   "outputs": [],
   "source": []
  }
 ],
 "metadata": {
  "kernelspec": {
   "display_name": "myEvri",
   "language": "python",
   "name": "myevri"
  },
  "language_info": {
   "codemirror_mode": {
    "name": "ipython",
    "version": 3
   },
   "file_extension": ".py",
   "mimetype": "text/x-python",
   "name": "python",
   "nbconvert_exporter": "python",
   "pygments_lexer": "ipython3",
   "version": "3.6.6"
  }
 },
 "nbformat": 4,
 "nbformat_minor": 2
}
